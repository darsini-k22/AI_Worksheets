{
  "nbformat": 4,
  "nbformat_minor": 0,
  "metadata": {
    "colab": {
      "provenance": [],
      "authorship_tag": "ABX9TyMHJ4WEyIolj3eJHfT7Q0p1",
      "include_colab_link": true
    },
    "kernelspec": {
      "name": "python3",
      "display_name": "Python 3"
    },
    "language_info": {
      "name": "python"
    },
    "gpuClass": "standard"
  },
  "cells": [
    {
      "cell_type": "markdown",
      "metadata": {
        "id": "view-in-github",
        "colab_type": "text"
      },
      "source": [
        "<a href=\"https://colab.research.google.com/github/darsini-k22/AI_Worksheets/blob/main/data_genie_hack.ipynb\" target=\"_parent\"><img src=\"https://colab.research.google.com/assets/colab-badge.svg\" alt=\"Open In Colab\"/></a>"
      ]
    },
    {
      "cell_type": "code",
      "source": [
        "import pandas as pd\n",
        "import matplotlib.pyplot as plt\n",
        "import numpy as np\n",
        "from scipy import stats\n",
        "from sklearn.neighbors import LocalOutlierFactor\n",
        "from sklearn.preprocessing import MinMaxScaler\n",
        "from sklearn.preprocessing import StandardScaler\n",
        "import warnings\n",
        "warnings.filterwarnings(\"ignore\")\n",
        "import logging\n",
        "logging.getLogger('cmdstanpy').setLevel(logging.WARNING)"
      ],
      "metadata": {
        "id": "Q5DvcXKPPKcL"
      },
      "execution_count": 854,
      "outputs": []
    },
    {
      "cell_type": "markdown",
      "source": [
        "# Data preprocessing\n"
      ],
      "metadata": {
        "id": "JSpd1oN6PHZC"
      }
    },
    {
      "cell_type": "code",
      "source": [
        "df1=pd.read_csv('sample_1.csv',index_col=[0],parse_dates=True)\n",
        "df2=pd.read_csv('sample_2.csv',index_col=[0],parse_dates=True)\n",
        "df3=pd.read_csv('sample_3.csv',index_col=[0],parse_dates=True)\n",
        "df4=pd.read_csv('sample_4.csv',index_col=[0],parse_dates=True)\n",
        "df5=pd.read_csv('sample_5.csv',index_col=[0],parse_dates=True)\n",
        "df6=pd.read_csv('sample_6.csv',index_col=[0],parse_dates=True)\n",
        "df7=pd.read_csv('sample_7.csv',index_col=[0],parse_dates=True)\n",
        "df8=pd.read_csv('sample_8.csv',index_col=[0],parse_dates=True)\n",
        "df9=pd.read_csv('sample_9.csv',index_col=[0],parse_dates=True)\n",
        "df10=pd.read_csv('sample_10.csv',index_col=[0],parse_dates=True)\n"
      ],
      "metadata": {
        "id": "l1qmQSODPZI5"
      },
      "execution_count": 855,
      "outputs": []
    },
    {
      "cell_type": "markdown",
      "source": [
        "### Outlier detection"
      ],
      "metadata": {
        "id": "uJE9M9T9hTUB"
      }
    },
    {
      "cell_type": "code",
      "source": [
        "def outlier_detect_drop(df):\n",
        "  out = LocalOutlierFactor(n_neighbors=2)\n",
        "  labels = out.fit_predict(df)\n",
        "  outlier_indices = []\n",
        "  print(outlier_indices)\n",
        "\n",
        "  if(len(outlier_indices)>0):\n",
        "    for i in range(len(labels)):\n",
        "      if labels[i] == -1:\n",
        "        outlier_indices.append(i)\n",
        "\n",
        "    if outlier_indices:\n",
        "      df.drop(df.index[outlier_indices], inplace=True)\n",
        "  \n",
        "\n"
      ],
      "metadata": {
        "id": "NgkadaPI89LU"
      },
      "execution_count": 856,
      "outputs": []
    },
    {
      "cell_type": "markdown",
      "source": [
        "## Transformation"
      ],
      "metadata": {
        "id": "aiiPh7zHqvj7"
      }
    },
    {
      "cell_type": "code",
      "source": [
        "from sklearn.metrics import mean_squared_error\n",
        "std_scaler = StandardScaler()\n",
        "def transformation(df):\n",
        "  \n",
        "  dataset_std = pd.DataFrame(index=df.index, columns=df.columns)\n",
        "\n",
        "  for col in df.columns:\n",
        "    dataset_std[col] = std_scaler.fit_transform(df[col].values.reshape(-1, 1)).ravel()\n",
        "    \n",
        "  dataset_std.head()\n",
        "  return dataset_std\n"
      ],
      "metadata": {
        "id": "4vi9DIs92DiL"
      },
      "execution_count": 857,
      "outputs": []
    },
    {
      "cell_type": "markdown",
      "source": [
        "#Feature Extraction"
      ],
      "metadata": {
        "id": "PrlaglXMfd3x"
      }
    },
    {
      "cell_type": "code",
      "source": [
        "def preprocessing(df):\n",
        "  df.dropna(axis=1,inplace=True,how='all')\n",
        "  temp=df\n",
        "  temp=temp.astype('str')\n",
        "  temp.dtypes\n",
        "  colum=[]\n",
        "\n",
        "  #searching for column with time stamp like columns\n",
        "  for col in temp.columns:\n",
        "      try:\n",
        "          temp[col] = pd.to_datetime(temp[col])\n",
        "          print(temp[col].dtype)\n",
        "          if temp[col].dtype == 'datetime64[ns]' or temp[col].dtype == 'datetime64[ns, UTC]' :\n",
        "            colum.append(col)\n",
        "            print(f'Column \"{col}\" contains timestamp-like values')\n",
        "      except:\n",
        "          pass\n",
        "  print(colum)\n",
        "  df[colum[0]] = pd.to_datetime(df[colum[0]])\n",
        "\n",
        "  df[colum[0]].dt.tz_localize(None)\n",
        "\n",
        "  #making timestamp column as index\n",
        "  if len(colum)>0:\n",
        "    for c in colum:\n",
        "      df[c]=pd.to_datetime(df[c],infer_datetime_format=True)\n",
        "    df=df.set_index([colum[0]])\n",
        "\n",
        "  #dropping column with index NaT\n",
        "  df = df.loc[df.index.notna()]\n",
        "\n",
        "  #sorting the data by timestamp\n",
        "  df.sort_index(inplace=True)\n",
        "  \n",
        "  #filling NaN values with interpolation method\n",
        "  \n",
        "  for col in df.columns:\n",
        "    df[col]=df[col].interpolate(method=\"linear\")\n",
        "  \n",
        "  df.fillna(0,inplace=True)\n",
        "\n",
        "  #dropping outliers\n",
        "  outlier_detect_drop(df)\n",
        "\n",
        "  #resampling in daily basis\n",
        "  resampled_data=df.resample('D').mean()\n",
        "  resampled_data=resampled_data.interpolate(method=\"linear\")\n",
        "\n",
        "  #transformation \n",
        "  dataset_stand=transformation(resampled_data)\n",
        "  return dataset_stand\n",
        "\n"
      ],
      "metadata": {
        "id": "VcCXzJWE76Nk"
      },
      "execution_count": 858,
      "outputs": []
    },
    {
      "cell_type": "code",
      "source": [
        "dataset_stand1=preprocessing(df1)\n",
        "dataset_stand2=preprocessing(df2)\n",
        "dataset_stand3=preprocessing(df3)\n",
        "dataset_stand4=preprocessing(df4)\n",
        "dataset_stand5=preprocessing(df5)\n",
        "dataset_stand6=preprocessing(df6)\n",
        "dataset_stand7=preprocessing(df7)\n",
        "dataset_stand8=preprocessing(df8)\n",
        "dataset_stand9=preprocessing(df9)\n",
        "dataset_stand10=preprocessing(df10)"
      ],
      "metadata": {
        "id": "4RPrq9JW-I-x",
        "colab": {
          "base_uri": "https://localhost:8080/"
        },
        "outputId": "61af76f0-be61-4cb7-dbad-1ce522b2b87e"
      },
      "execution_count": 859,
      "outputs": [
        {
          "output_type": "stream",
          "name": "stdout",
          "text": [
            "datetime64[ns]\n",
            "Column \"point_timestamp\" contains timestamp-like values\n",
            "['point_timestamp']\n",
            "[]\n",
            "datetime64[ns]\n",
            "Column \"point_timestamp\" contains timestamp-like values\n",
            "['point_timestamp']\n",
            "[]\n",
            "datetime64[ns]\n",
            "Column \"point_timestamp\" contains timestamp-like values\n",
            "['point_timestamp']\n",
            "[]\n",
            "datetime64[ns]\n",
            "Column \"point_timestamp\" contains timestamp-like values\n",
            "['point_timestamp']\n",
            "[]\n",
            "datetime64[ns]\n",
            "Column \"point_timestamp\" contains timestamp-like values\n",
            "['point_timestamp']\n",
            "[]\n",
            "datetime64[ns]\n",
            "Column \"point_timestamp\" contains timestamp-like values\n",
            "['point_timestamp']\n",
            "[]\n",
            "datetime64[ns]\n",
            "Column \"point_timestamp\" contains timestamp-like values\n",
            "['point_timestamp']\n",
            "[]\n",
            "datetime64[ns]\n",
            "Column \"point_timestamp\" contains timestamp-like values\n",
            "['point_timestamp']\n",
            "[]\n",
            "datetime64[ns]\n",
            "Column \"point_timestamp\" contains timestamp-like values\n",
            "['point_timestamp']\n",
            "[]\n",
            "datetime64[ns]\n",
            "Column \"point_timestamp\" contains timestamp-like values\n",
            "['point_timestamp']\n",
            "[]\n"
          ]
        }
      ]
    },
    {
      "cell_type": "code",
      "source": [
        "from scipy.stats import entropy\n",
        "\n",
        "def unpredictability(data):\n",
        "    prob = np.histogram(data.values, bins=10, density=True)[0]\n",
        "    entropy_value = entropy(prob)\n",
        "    return entropy_value\n"
      ],
      "metadata": {
        "id": "aNyVvYuMhAtS"
      },
      "execution_count": 860,
      "outputs": []
    },
    {
      "cell_type": "code",
      "source": [
        "def trend_infer(data):\n",
        "  mean_diff = data.diff().mean()[0]\n",
        "  if mean_diff > 0:\n",
        "      trend_direction = 1\n",
        "  elif mean_diff<0:\n",
        "      trend_direction = -1\n",
        "  else:\n",
        "      trend_direction = 0\n",
        "\n",
        "  return trend_direction, abs(mean_diff)\n"
      ],
      "metadata": {
        "id": "wjaLqZFEmP-c"
      },
      "execution_count": 861,
      "outputs": []
    },
    {
      "cell_type": "code",
      "source": [
        "from statsmodels.tsa.stattools import acf\n",
        "\n",
        "def calc_lag(data):\n",
        "    acf_vals, confint = acf(data, nlags=50, alpha=0.05)\n",
        "    cyclic = np.where(acf_vals > confint[:, 1])[0]\n",
        "    seasonal = np.where(acf_vals > confint[:, 0])[0][1:]\n",
        "    if cyclic.size == 0:\n",
        "        cyclic_val = 0\n",
        "    else:\n",
        "        cyclic_val = cyclic[0]\n",
        "    if seasonal.size == 0:\n",
        "        seasonal_val = 0\n",
        "    else:\n",
        "        seasonal_val = seasonal[0]\n",
        "    return cyclic_val, seasonal_val\n",
        "\n"
      ],
      "metadata": {
        "id": "heX_TOP2uROX"
      },
      "execution_count": 862,
      "outputs": []
    },
    {
      "cell_type": "code",
      "source": [
        "datasets = [dataset_stand1, dataset_stand2, dataset_stand4, dataset_stand5, dataset_stand6, dataset_stand8, dataset_stand9, dataset_stand10]\n",
        "\n",
        "results = []\n",
        "\n",
        "for i, dataset in enumerate(datasets, 1):\n",
        "    tdir, tchange_rate = trend_infer(dataset)\n",
        "    results.append(['s' + str(i), unpredictability(dataset), tdir, tchange_rate])\n",
        "\n",
        "columns=['name','unpred','t_dir','tchange_rate']\n",
        "\n",
        "df = pd.DataFrame(results, columns=columns)\n",
        "df.set_index('name',inplace=True)\n"
      ],
      "metadata": {
        "id": "T4UhpYPJXAIi"
      },
      "execution_count": 863,
      "outputs": []
    },
    {
      "cell_type": "code",
      "source": [
        "df.head(5)"
      ],
      "metadata": {
        "id": "vAeOyfLi-N7q",
        "colab": {
          "base_uri": "https://localhost:8080/",
          "height": 238
        },
        "outputId": "4166e1e9-a192-4623-9b7d-70d6e1f617d2"
      },
      "execution_count": 864,
      "outputs": [
        {
          "output_type": "execute_result",
          "data": {
            "text/plain": [
              "        unpred  t_dir  tchange_rate\n",
              "name                               \n",
              "s1    1.748524      1      0.057283\n",
              "s2    1.609438      1      0.428780\n",
              "s3    0.849990      1      0.098716\n",
              "s4    2.113665      1      0.000811\n",
              "s5    2.113665      1      0.000811"
            ],
            "text/html": [
              "\n",
              "  <div id=\"df-1d5d752a-8633-4f44-b716-e5d83101d01b\">\n",
              "    <div class=\"colab-df-container\">\n",
              "      <div>\n",
              "<style scoped>\n",
              "    .dataframe tbody tr th:only-of-type {\n",
              "        vertical-align: middle;\n",
              "    }\n",
              "\n",
              "    .dataframe tbody tr th {\n",
              "        vertical-align: top;\n",
              "    }\n",
              "\n",
              "    .dataframe thead th {\n",
              "        text-align: right;\n",
              "    }\n",
              "</style>\n",
              "<table border=\"1\" class=\"dataframe\">\n",
              "  <thead>\n",
              "    <tr style=\"text-align: right;\">\n",
              "      <th></th>\n",
              "      <th>unpred</th>\n",
              "      <th>t_dir</th>\n",
              "      <th>tchange_rate</th>\n",
              "    </tr>\n",
              "    <tr>\n",
              "      <th>name</th>\n",
              "      <th></th>\n",
              "      <th></th>\n",
              "      <th></th>\n",
              "    </tr>\n",
              "  </thead>\n",
              "  <tbody>\n",
              "    <tr>\n",
              "      <th>s1</th>\n",
              "      <td>1.748524</td>\n",
              "      <td>1</td>\n",
              "      <td>0.057283</td>\n",
              "    </tr>\n",
              "    <tr>\n",
              "      <th>s2</th>\n",
              "      <td>1.609438</td>\n",
              "      <td>1</td>\n",
              "      <td>0.428780</td>\n",
              "    </tr>\n",
              "    <tr>\n",
              "      <th>s3</th>\n",
              "      <td>0.849990</td>\n",
              "      <td>1</td>\n",
              "      <td>0.098716</td>\n",
              "    </tr>\n",
              "    <tr>\n",
              "      <th>s4</th>\n",
              "      <td>2.113665</td>\n",
              "      <td>1</td>\n",
              "      <td>0.000811</td>\n",
              "    </tr>\n",
              "    <tr>\n",
              "      <th>s5</th>\n",
              "      <td>2.113665</td>\n",
              "      <td>1</td>\n",
              "      <td>0.000811</td>\n",
              "    </tr>\n",
              "  </tbody>\n",
              "</table>\n",
              "</div>\n",
              "      <button class=\"colab-df-convert\" onclick=\"convertToInteractive('df-1d5d752a-8633-4f44-b716-e5d83101d01b')\"\n",
              "              title=\"Convert this dataframe to an interactive table.\"\n",
              "              style=\"display:none;\">\n",
              "        \n",
              "  <svg xmlns=\"http://www.w3.org/2000/svg\" height=\"24px\"viewBox=\"0 0 24 24\"\n",
              "       width=\"24px\">\n",
              "    <path d=\"M0 0h24v24H0V0z\" fill=\"none\"/>\n",
              "    <path d=\"M18.56 5.44l.94 2.06.94-2.06 2.06-.94-2.06-.94-.94-2.06-.94 2.06-2.06.94zm-11 1L8.5 8.5l.94-2.06 2.06-.94-2.06-.94L8.5 2.5l-.94 2.06-2.06.94zm10 10l.94 2.06.94-2.06 2.06-.94-2.06-.94-.94-2.06-.94 2.06-2.06.94z\"/><path d=\"M17.41 7.96l-1.37-1.37c-.4-.4-.92-.59-1.43-.59-.52 0-1.04.2-1.43.59L10.3 9.45l-7.72 7.72c-.78.78-.78 2.05 0 2.83L4 21.41c.39.39.9.59 1.41.59.51 0 1.02-.2 1.41-.59l7.78-7.78 2.81-2.81c.8-.78.8-2.07 0-2.86zM5.41 20L4 18.59l7.72-7.72 1.47 1.35L5.41 20z\"/>\n",
              "  </svg>\n",
              "      </button>\n",
              "      \n",
              "  <style>\n",
              "    .colab-df-container {\n",
              "      display:flex;\n",
              "      flex-wrap:wrap;\n",
              "      gap: 12px;\n",
              "    }\n",
              "\n",
              "    .colab-df-convert {\n",
              "      background-color: #E8F0FE;\n",
              "      border: none;\n",
              "      border-radius: 50%;\n",
              "      cursor: pointer;\n",
              "      display: none;\n",
              "      fill: #1967D2;\n",
              "      height: 32px;\n",
              "      padding: 0 0 0 0;\n",
              "      width: 32px;\n",
              "    }\n",
              "\n",
              "    .colab-df-convert:hover {\n",
              "      background-color: #E2EBFA;\n",
              "      box-shadow: 0px 1px 2px rgba(60, 64, 67, 0.3), 0px 1px 3px 1px rgba(60, 64, 67, 0.15);\n",
              "      fill: #174EA6;\n",
              "    }\n",
              "\n",
              "    [theme=dark] .colab-df-convert {\n",
              "      background-color: #3B4455;\n",
              "      fill: #D2E3FC;\n",
              "    }\n",
              "\n",
              "    [theme=dark] .colab-df-convert:hover {\n",
              "      background-color: #434B5C;\n",
              "      box-shadow: 0px 1px 3px 1px rgba(0, 0, 0, 0.15);\n",
              "      filter: drop-shadow(0px 1px 2px rgba(0, 0, 0, 0.3));\n",
              "      fill: #FFFFFF;\n",
              "    }\n",
              "  </style>\n",
              "\n",
              "      <script>\n",
              "        const buttonEl =\n",
              "          document.querySelector('#df-1d5d752a-8633-4f44-b716-e5d83101d01b button.colab-df-convert');\n",
              "        buttonEl.style.display =\n",
              "          google.colab.kernel.accessAllowed ? 'block' : 'none';\n",
              "\n",
              "        async function convertToInteractive(key) {\n",
              "          const element = document.querySelector('#df-1d5d752a-8633-4f44-b716-e5d83101d01b');\n",
              "          const dataTable =\n",
              "            await google.colab.kernel.invokeFunction('convertToInteractive',\n",
              "                                                     [key], {});\n",
              "          if (!dataTable) return;\n",
              "\n",
              "          const docLinkHtml = 'Like what you see? Visit the ' +\n",
              "            '<a target=\"_blank\" href=https://colab.research.google.com/notebooks/data_table.ipynb>data table notebook</a>'\n",
              "            + ' to learn more about interactive tables.';\n",
              "          element.innerHTML = '';\n",
              "          dataTable['output_type'] = 'display_data';\n",
              "          await google.colab.output.renderOutput(dataTable, element);\n",
              "          const docLink = document.createElement('div');\n",
              "          docLink.innerHTML = docLinkHtml;\n",
              "          element.appendChild(docLink);\n",
              "        }\n",
              "      </script>\n",
              "    </div>\n",
              "  </div>\n",
              "  "
            ]
          },
          "metadata": {},
          "execution_count": 864
        }
      ]
    },
    {
      "cell_type": "code",
      "source": [
        "df0=pd.read_csv('sample_0.csv',index_col=[0],parse_dates=True)\n",
        "dataset_stand0=preprocessing(df0)"
      ],
      "metadata": {
        "colab": {
          "base_uri": "https://localhost:8080/"
        },
        "id": "hw-21hEbBwhN",
        "outputId": "d8d3e2e8-b92b-490d-f884-855d206ab83d"
      },
      "execution_count": 865,
      "outputs": [
        {
          "output_type": "stream",
          "name": "stdout",
          "text": [
            "datetime64[ns, UTC]\n",
            "Column \"point_timestamp\" contains timestamp-like values\n",
            "['point_timestamp']\n",
            "[]\n"
          ]
        }
      ]
    },
    {
      "cell_type": "code",
      "source": [
        "dataset_stand0"
      ],
      "metadata": {
        "colab": {
          "base_uri": "https://localhost:8080/",
          "height": 455
        },
        "id": "GZF124nbFIUV",
        "outputId": "ae20bbd6-d54e-458d-a72a-6fc308e9c672"
      },
      "execution_count": 866,
      "outputs": [
        {
          "output_type": "execute_result",
          "data": {
            "text/plain": [
              "                           point_value\n",
              "point_timestamp                       \n",
              "2009-01-01 00:00:00+00:00     2.308917\n",
              "2009-01-02 00:00:00+00:00     2.255349\n",
              "2009-01-03 00:00:00+00:00     2.201782\n",
              "2009-01-04 00:00:00+00:00     2.148214\n",
              "2009-01-05 00:00:00+00:00     2.094647\n",
              "...                                ...\n",
              "2020-12-28 00:00:00+00:00    -1.814562\n",
              "2020-12-29 00:00:00+00:00    -1.812027\n",
              "2020-12-30 00:00:00+00:00    -1.809491\n",
              "2020-12-31 00:00:00+00:00    -1.806956\n",
              "2021-01-01 00:00:00+00:00    -1.804421\n",
              "\n",
              "[4384 rows x 1 columns]"
            ],
            "text/html": [
              "\n",
              "  <div id=\"df-37f55ee4-31ef-433e-b972-ee9510adec3c\">\n",
              "    <div class=\"colab-df-container\">\n",
              "      <div>\n",
              "<style scoped>\n",
              "    .dataframe tbody tr th:only-of-type {\n",
              "        vertical-align: middle;\n",
              "    }\n",
              "\n",
              "    .dataframe tbody tr th {\n",
              "        vertical-align: top;\n",
              "    }\n",
              "\n",
              "    .dataframe thead th {\n",
              "        text-align: right;\n",
              "    }\n",
              "</style>\n",
              "<table border=\"1\" class=\"dataframe\">\n",
              "  <thead>\n",
              "    <tr style=\"text-align: right;\">\n",
              "      <th></th>\n",
              "      <th>point_value</th>\n",
              "    </tr>\n",
              "    <tr>\n",
              "      <th>point_timestamp</th>\n",
              "      <th></th>\n",
              "    </tr>\n",
              "  </thead>\n",
              "  <tbody>\n",
              "    <tr>\n",
              "      <th>2009-01-01 00:00:00+00:00</th>\n",
              "      <td>2.308917</td>\n",
              "    </tr>\n",
              "    <tr>\n",
              "      <th>2009-01-02 00:00:00+00:00</th>\n",
              "      <td>2.255349</td>\n",
              "    </tr>\n",
              "    <tr>\n",
              "      <th>2009-01-03 00:00:00+00:00</th>\n",
              "      <td>2.201782</td>\n",
              "    </tr>\n",
              "    <tr>\n",
              "      <th>2009-01-04 00:00:00+00:00</th>\n",
              "      <td>2.148214</td>\n",
              "    </tr>\n",
              "    <tr>\n",
              "      <th>2009-01-05 00:00:00+00:00</th>\n",
              "      <td>2.094647</td>\n",
              "    </tr>\n",
              "    <tr>\n",
              "      <th>...</th>\n",
              "      <td>...</td>\n",
              "    </tr>\n",
              "    <tr>\n",
              "      <th>2020-12-28 00:00:00+00:00</th>\n",
              "      <td>-1.814562</td>\n",
              "    </tr>\n",
              "    <tr>\n",
              "      <th>2020-12-29 00:00:00+00:00</th>\n",
              "      <td>-1.812027</td>\n",
              "    </tr>\n",
              "    <tr>\n",
              "      <th>2020-12-30 00:00:00+00:00</th>\n",
              "      <td>-1.809491</td>\n",
              "    </tr>\n",
              "    <tr>\n",
              "      <th>2020-12-31 00:00:00+00:00</th>\n",
              "      <td>-1.806956</td>\n",
              "    </tr>\n",
              "    <tr>\n",
              "      <th>2021-01-01 00:00:00+00:00</th>\n",
              "      <td>-1.804421</td>\n",
              "    </tr>\n",
              "  </tbody>\n",
              "</table>\n",
              "<p>4384 rows × 1 columns</p>\n",
              "</div>\n",
              "      <button class=\"colab-df-convert\" onclick=\"convertToInteractive('df-37f55ee4-31ef-433e-b972-ee9510adec3c')\"\n",
              "              title=\"Convert this dataframe to an interactive table.\"\n",
              "              style=\"display:none;\">\n",
              "        \n",
              "  <svg xmlns=\"http://www.w3.org/2000/svg\" height=\"24px\"viewBox=\"0 0 24 24\"\n",
              "       width=\"24px\">\n",
              "    <path d=\"M0 0h24v24H0V0z\" fill=\"none\"/>\n",
              "    <path d=\"M18.56 5.44l.94 2.06.94-2.06 2.06-.94-2.06-.94-.94-2.06-.94 2.06-2.06.94zm-11 1L8.5 8.5l.94-2.06 2.06-.94-2.06-.94L8.5 2.5l-.94 2.06-2.06.94zm10 10l.94 2.06.94-2.06 2.06-.94-2.06-.94-.94-2.06-.94 2.06-2.06.94z\"/><path d=\"M17.41 7.96l-1.37-1.37c-.4-.4-.92-.59-1.43-.59-.52 0-1.04.2-1.43.59L10.3 9.45l-7.72 7.72c-.78.78-.78 2.05 0 2.83L4 21.41c.39.39.9.59 1.41.59.51 0 1.02-.2 1.41-.59l7.78-7.78 2.81-2.81c.8-.78.8-2.07 0-2.86zM5.41 20L4 18.59l7.72-7.72 1.47 1.35L5.41 20z\"/>\n",
              "  </svg>\n",
              "      </button>\n",
              "      \n",
              "  <style>\n",
              "    .colab-df-container {\n",
              "      display:flex;\n",
              "      flex-wrap:wrap;\n",
              "      gap: 12px;\n",
              "    }\n",
              "\n",
              "    .colab-df-convert {\n",
              "      background-color: #E8F0FE;\n",
              "      border: none;\n",
              "      border-radius: 50%;\n",
              "      cursor: pointer;\n",
              "      display: none;\n",
              "      fill: #1967D2;\n",
              "      height: 32px;\n",
              "      padding: 0 0 0 0;\n",
              "      width: 32px;\n",
              "    }\n",
              "\n",
              "    .colab-df-convert:hover {\n",
              "      background-color: #E2EBFA;\n",
              "      box-shadow: 0px 1px 2px rgba(60, 64, 67, 0.3), 0px 1px 3px 1px rgba(60, 64, 67, 0.15);\n",
              "      fill: #174EA6;\n",
              "    }\n",
              "\n",
              "    [theme=dark] .colab-df-convert {\n",
              "      background-color: #3B4455;\n",
              "      fill: #D2E3FC;\n",
              "    }\n",
              "\n",
              "    [theme=dark] .colab-df-convert:hover {\n",
              "      background-color: #434B5C;\n",
              "      box-shadow: 0px 1px 3px 1px rgba(0, 0, 0, 0.15);\n",
              "      filter: drop-shadow(0px 1px 2px rgba(0, 0, 0, 0.3));\n",
              "      fill: #FFFFFF;\n",
              "    }\n",
              "  </style>\n",
              "\n",
              "      <script>\n",
              "        const buttonEl =\n",
              "          document.querySelector('#df-37f55ee4-31ef-433e-b972-ee9510adec3c button.colab-df-convert');\n",
              "        buttonEl.style.display =\n",
              "          google.colab.kernel.accessAllowed ? 'block' : 'none';\n",
              "\n",
              "        async function convertToInteractive(key) {\n",
              "          const element = document.querySelector('#df-37f55ee4-31ef-433e-b972-ee9510adec3c');\n",
              "          const dataTable =\n",
              "            await google.colab.kernel.invokeFunction('convertToInteractive',\n",
              "                                                     [key], {});\n",
              "          if (!dataTable) return;\n",
              "\n",
              "          const docLinkHtml = 'Like what you see? Visit the ' +\n",
              "            '<a target=\"_blank\" href=https://colab.research.google.com/notebooks/data_table.ipynb>data table notebook</a>'\n",
              "            + ' to learn more about interactive tables.';\n",
              "          element.innerHTML = '';\n",
              "          dataTable['output_type'] = 'display_data';\n",
              "          await google.colab.output.renderOutput(dataTable, element);\n",
              "          const docLink = document.createElement('div');\n",
              "          docLink.innerHTML = docLinkHtml;\n",
              "          element.appendChild(docLink);\n",
              "        }\n",
              "      </script>\n",
              "    </div>\n",
              "  </div>\n",
              "  "
            ]
          },
          "metadata": {},
          "execution_count": 866
        }
      ]
    },
    {
      "cell_type": "code",
      "source": [
        "tdir,tchange_rate=trend_infer(dataset_stand0)\n",
        "col=['name','unpred','t_dir','tchange_rate','cluster']\n",
        "sample0=pd.DataFrame([['s0',unpredictability(dataset_stand0),tdir,tchange_rate,0]],columns=col)\n",
        "sample0.set_index('name',inplace=True)\n",
        "sample0.head()\n"
      ],
      "metadata": {
        "colab": {
          "base_uri": "https://localhost:8080/",
          "height": 112
        },
        "id": "vw3Y3ORCCZwL",
        "outputId": "b4a5c272-c864-41ed-c5b0-faebdc5eadb6"
      },
      "execution_count": 867,
      "outputs": [
        {
          "output_type": "execute_result",
          "data": {
            "text/plain": [
              "        unpred  t_dir  tchange_rate  cluster\n",
              "name                                        \n",
              "s0    2.090887     -1      0.000938        0"
            ],
            "text/html": [
              "\n",
              "  <div id=\"df-dd746ec0-ebfa-4478-8901-25fc802e068d\">\n",
              "    <div class=\"colab-df-container\">\n",
              "      <div>\n",
              "<style scoped>\n",
              "    .dataframe tbody tr th:only-of-type {\n",
              "        vertical-align: middle;\n",
              "    }\n",
              "\n",
              "    .dataframe tbody tr th {\n",
              "        vertical-align: top;\n",
              "    }\n",
              "\n",
              "    .dataframe thead th {\n",
              "        text-align: right;\n",
              "    }\n",
              "</style>\n",
              "<table border=\"1\" class=\"dataframe\">\n",
              "  <thead>\n",
              "    <tr style=\"text-align: right;\">\n",
              "      <th></th>\n",
              "      <th>unpred</th>\n",
              "      <th>t_dir</th>\n",
              "      <th>tchange_rate</th>\n",
              "      <th>cluster</th>\n",
              "    </tr>\n",
              "    <tr>\n",
              "      <th>name</th>\n",
              "      <th></th>\n",
              "      <th></th>\n",
              "      <th></th>\n",
              "      <th></th>\n",
              "    </tr>\n",
              "  </thead>\n",
              "  <tbody>\n",
              "    <tr>\n",
              "      <th>s0</th>\n",
              "      <td>2.090887</td>\n",
              "      <td>-1</td>\n",
              "      <td>0.000938</td>\n",
              "      <td>0</td>\n",
              "    </tr>\n",
              "  </tbody>\n",
              "</table>\n",
              "</div>\n",
              "      <button class=\"colab-df-convert\" onclick=\"convertToInteractive('df-dd746ec0-ebfa-4478-8901-25fc802e068d')\"\n",
              "              title=\"Convert this dataframe to an interactive table.\"\n",
              "              style=\"display:none;\">\n",
              "        \n",
              "  <svg xmlns=\"http://www.w3.org/2000/svg\" height=\"24px\"viewBox=\"0 0 24 24\"\n",
              "       width=\"24px\">\n",
              "    <path d=\"M0 0h24v24H0V0z\" fill=\"none\"/>\n",
              "    <path d=\"M18.56 5.44l.94 2.06.94-2.06 2.06-.94-2.06-.94-.94-2.06-.94 2.06-2.06.94zm-11 1L8.5 8.5l.94-2.06 2.06-.94-2.06-.94L8.5 2.5l-.94 2.06-2.06.94zm10 10l.94 2.06.94-2.06 2.06-.94-2.06-.94-.94-2.06-.94 2.06-2.06.94z\"/><path d=\"M17.41 7.96l-1.37-1.37c-.4-.4-.92-.59-1.43-.59-.52 0-1.04.2-1.43.59L10.3 9.45l-7.72 7.72c-.78.78-.78 2.05 0 2.83L4 21.41c.39.39.9.59 1.41.59.51 0 1.02-.2 1.41-.59l7.78-7.78 2.81-2.81c.8-.78.8-2.07 0-2.86zM5.41 20L4 18.59l7.72-7.72 1.47 1.35L5.41 20z\"/>\n",
              "  </svg>\n",
              "      </button>\n",
              "      \n",
              "  <style>\n",
              "    .colab-df-container {\n",
              "      display:flex;\n",
              "      flex-wrap:wrap;\n",
              "      gap: 12px;\n",
              "    }\n",
              "\n",
              "    .colab-df-convert {\n",
              "      background-color: #E8F0FE;\n",
              "      border: none;\n",
              "      border-radius: 50%;\n",
              "      cursor: pointer;\n",
              "      display: none;\n",
              "      fill: #1967D2;\n",
              "      height: 32px;\n",
              "      padding: 0 0 0 0;\n",
              "      width: 32px;\n",
              "    }\n",
              "\n",
              "    .colab-df-convert:hover {\n",
              "      background-color: #E2EBFA;\n",
              "      box-shadow: 0px 1px 2px rgba(60, 64, 67, 0.3), 0px 1px 3px 1px rgba(60, 64, 67, 0.15);\n",
              "      fill: #174EA6;\n",
              "    }\n",
              "\n",
              "    [theme=dark] .colab-df-convert {\n",
              "      background-color: #3B4455;\n",
              "      fill: #D2E3FC;\n",
              "    }\n",
              "\n",
              "    [theme=dark] .colab-df-convert:hover {\n",
              "      background-color: #434B5C;\n",
              "      box-shadow: 0px 1px 3px 1px rgba(0, 0, 0, 0.15);\n",
              "      filter: drop-shadow(0px 1px 2px rgba(0, 0, 0, 0.3));\n",
              "      fill: #FFFFFF;\n",
              "    }\n",
              "  </style>\n",
              "\n",
              "      <script>\n",
              "        const buttonEl =\n",
              "          document.querySelector('#df-dd746ec0-ebfa-4478-8901-25fc802e068d button.colab-df-convert');\n",
              "        buttonEl.style.display =\n",
              "          google.colab.kernel.accessAllowed ? 'block' : 'none';\n",
              "\n",
              "        async function convertToInteractive(key) {\n",
              "          const element = document.querySelector('#df-dd746ec0-ebfa-4478-8901-25fc802e068d');\n",
              "          const dataTable =\n",
              "            await google.colab.kernel.invokeFunction('convertToInteractive',\n",
              "                                                     [key], {});\n",
              "          if (!dataTable) return;\n",
              "\n",
              "          const docLinkHtml = 'Like what you see? Visit the ' +\n",
              "            '<a target=\"_blank\" href=https://colab.research.google.com/notebooks/data_table.ipynb>data table notebook</a>'\n",
              "            + ' to learn more about interactive tables.';\n",
              "          element.innerHTML = '';\n",
              "          dataTable['output_type'] = 'display_data';\n",
              "          await google.colab.output.renderOutput(dataTable, element);\n",
              "          const docLink = document.createElement('div');\n",
              "          docLink.innerHTML = docLinkHtml;\n",
              "          element.appendChild(docLink);\n",
              "        }\n",
              "      </script>\n",
              "    </div>\n",
              "  </div>\n",
              "  "
            ]
          },
          "metadata": {},
          "execution_count": 867
        }
      ]
    },
    {
      "cell_type": "code",
      "source": [
        "sample0['cluster']=0"
      ],
      "metadata": {
        "id": "C-KVFsWgJ-hY"
      },
      "execution_count": 868,
      "outputs": []
    },
    {
      "cell_type": "markdown",
      "source": [
        "# Feature Selection"
      ],
      "metadata": {
        "id": "8HKJYL87EAOv"
      }
    },
    {
      "cell_type": "markdown",
      "source": [
        "## K Means cluster"
      ],
      "metadata": {
        "id": "Bj1UJqAFEDwL"
      }
    },
    {
      "cell_type": "code",
      "source": [
        "from sklearn.cluster import KMeans\n",
        "from mpl_toolkits.mplot3d import Axes3D\n",
        "from sklearn.decomposition import PCA"
      ],
      "metadata": {
        "id": "sSDrp77CeTFw"
      },
      "execution_count": 869,
      "outputs": []
    },
    {
      "cell_type": "code",
      "source": [
        "kmeans_model = KMeans(n_clusters=3)\n",
        "data = df\n",
        "\n",
        "kmeans_model.fit(data)\n",
        "\n",
        "labels = kmeans_model.labels_\n",
        "centroids = kmeans_model.cluster_centers_\n",
        "print(labels)\n",
        "\n",
        "pca = PCA(n_components=2)\n",
        "data_2d = pca.fit_transform(data.iloc[:, :3])\n",
        "\n",
        "fig = plt.figure()\n",
        "ax = fig.add_subplot(111)\n",
        "\n",
        "scatter = ax.scatter(data_2d[:, 0], data_2d[:, 1], c=labels, s=50)\n",
        "ax.scatter(centroids[:, 0], centroids[:, 1], marker='*', s=200, c='#050505', zorder=10)\n",
        "\n",
        "plt.colorbar(scatter)\n",
        "\n",
        "plt.show()\n"
      ],
      "metadata": {
        "colab": {
          "base_uri": "https://localhost:8080/",
          "height": 286
        },
        "id": "qXEEwtaDrZLy",
        "outputId": "821fb265-e676-458f-eb3b-8db3d1163514"
      },
      "execution_count": 870,
      "outputs": [
        {
          "output_type": "stream",
          "name": "stdout",
          "text": [
            "[0 0 2 0 0 1 0 1]\n"
          ]
        },
        {
          "output_type": "display_data",
          "data": {
            "text/plain": [
              "<Figure size 432x288 with 2 Axes>"
            ],
            "image/png": "[encoded data removed]"
          },
          "metadata": {
            "needs_background": "light"
          }
        }
      ]
    },
    {
      "cell_type": "code",
      "source": [
        "df['cluster']=labels"
      ],
      "metadata": {
        "id": "6OMPArTNvg3Z"
      },
      "execution_count": 871,
      "outputs": []
    },
    {
      "cell_type": "code",
      "source": [
        "\n",
        "new_label = kmeans_model.predict(sample0)\n",
        "sample0['cluster'] = new_label\n",
        "\n",
        "new_kmeans_model = KMeans(n_clusters=3)\n",
        "new_kmeans_model.fit(sample0)\n",
        "\n",
        "new_predictions = new_kmeans_model.predict(new_data)\n"
      ],
      "metadata": {
        "id": "FVj9Czz1JRAR",
        "colab": {
          "base_uri": "https://localhost:8080/",
          "height": 415
        },
        "outputId": "414fc5d9-b2bb-4ed8-c9b4-64f86fa21cc8"
      },
      "execution_count": 872,
      "outputs": [
        {
          "output_type": "error",
          "ename": "ValueError",
          "evalue": "ignored",
          "traceback": [
            "\u001b[0;31m---------------------------------------------------------------------------\u001b[0m",
            "\u001b[0;31mValueError\u001b[0m                                Traceback (most recent call last)",
            "\u001b[0;32m<ipython-input-872-e8a918bafd2c>\u001b[0m in \u001b[0;36m<module>\u001b[0;34m\u001b[0m\n\u001b[0;32m----> 1\u001b[0;31m \u001b[0mnew_label\u001b[0m \u001b[0;34m=\u001b[0m \u001b[0mkmeans_model\u001b[0m\u001b[0;34m.\u001b[0m\u001b[0mpredict\u001b[0m\u001b[0;34m(\u001b[0m\u001b[0msample0\u001b[0m\u001b[0;34m)\u001b[0m\u001b[0;34m\u001b[0m\u001b[0;34m\u001b[0m\u001b[0m\n\u001b[0m\u001b[1;32m      2\u001b[0m \u001b[0msample0\u001b[0m\u001b[0;34m[\u001b[0m\u001b[0;34m'cluster'\u001b[0m\u001b[0;34m]\u001b[0m \u001b[0;34m=\u001b[0m \u001b[0mnew_label\u001b[0m\u001b[0;34m\u001b[0m\u001b[0;34m\u001b[0m\u001b[0m\n\u001b[1;32m      3\u001b[0m \u001b[0;34m\u001b[0m\u001b[0m\n\u001b[1;32m      4\u001b[0m \u001b[0mnew_kmeans_model\u001b[0m \u001b[0;34m=\u001b[0m \u001b[0mKMeans\u001b[0m\u001b[0;34m(\u001b[0m\u001b[0mn_clusters\u001b[0m\u001b[0;34m=\u001b[0m\u001b[0;36m3\u001b[0m\u001b[0;34m)\u001b[0m\u001b[0;34m\u001b[0m\u001b[0;34m\u001b[0m\u001b[0m\n\u001b[1;32m      5\u001b[0m \u001b[0mnew_kmeans_model\u001b[0m\u001b[0;34m.\u001b[0m\u001b[0mfit\u001b[0m\u001b[0;34m(\u001b[0m\u001b[0msample0\u001b[0m\u001b[0;34m)\u001b[0m\u001b[0;34m\u001b[0m\u001b[0;34m\u001b[0m\u001b[0m\n",
            "\u001b[0;32m/usr/local/lib/python3.9/dist-packages/sklearn/cluster/_kmeans.py\u001b[0m in \u001b[0;36mpredict\u001b[0;34m(self, X, sample_weight)\u001b[0m\n\u001b[1;32m   1056\u001b[0m         \u001b[0mcheck_is_fitted\u001b[0m\u001b[0;34m(\u001b[0m\u001b[0mself\u001b[0m\u001b[0;34m)\u001b[0m\u001b[0;34m\u001b[0m\u001b[0;34m\u001b[0m\u001b[0m\n\u001b[1;32m   1057\u001b[0m \u001b[0;34m\u001b[0m\u001b[0m\n\u001b[0;32m-> 1058\u001b[0;31m         \u001b[0mX\u001b[0m \u001b[0;34m=\u001b[0m \u001b[0mself\u001b[0m\u001b[0;34m.\u001b[0m\u001b[0m_check_test_data\u001b[0m\u001b[0;34m(\u001b[0m\u001b[0mX\u001b[0m\u001b[0;34m)\u001b[0m\u001b[0;34m\u001b[0m\u001b[0;34m\u001b[0m\u001b[0m\n\u001b[0m\u001b[1;32m   1059\u001b[0m         \u001b[0msample_weight\u001b[0m \u001b[0;34m=\u001b[0m \u001b[0m_check_sample_weight\u001b[0m\u001b[0;34m(\u001b[0m\u001b[0msample_weight\u001b[0m\u001b[0;34m,\u001b[0m \u001b[0mX\u001b[0m\u001b[0;34m,\u001b[0m \u001b[0mdtype\u001b[0m\u001b[0;34m=\u001b[0m\u001b[0mX\u001b[0m\u001b[0;34m.\u001b[0m\u001b[0mdtype\u001b[0m\u001b[0;34m)\u001b[0m\u001b[0;34m\u001b[0m\u001b[0;34m\u001b[0m\u001b[0m\n\u001b[1;32m   1060\u001b[0m \u001b[0;34m\u001b[0m\u001b[0m\n",
            "\u001b[0;32m/usr/local/lib/python3.9/dist-packages/sklearn/cluster/_kmeans.py\u001b[0m in \u001b[0;36m_check_test_data\u001b[0;34m(self, X)\u001b[0m\n\u001b[1;32m    932\u001b[0m \u001b[0;34m\u001b[0m\u001b[0m\n\u001b[1;32m    933\u001b[0m     \u001b[0;32mdef\u001b[0m \u001b[0m_check_test_data\u001b[0m\u001b[0;34m(\u001b[0m\u001b[0mself\u001b[0m\u001b[0;34m,\u001b[0m \u001b[0mX\u001b[0m\u001b[0;34m)\u001b[0m\u001b[0;34m:\u001b[0m\u001b[0;34m\u001b[0m\u001b[0;34m\u001b[0m\u001b[0m\n\u001b[0;32m--> 934\u001b[0;31m         X = self._validate_data(\n\u001b[0m\u001b[1;32m    935\u001b[0m             \u001b[0mX\u001b[0m\u001b[0;34m,\u001b[0m\u001b[0;34m\u001b[0m\u001b[0;34m\u001b[0m\u001b[0m\n\u001b[1;32m    936\u001b[0m             \u001b[0maccept_sparse\u001b[0m\u001b[0;34m=\u001b[0m\u001b[0;34m\"csr\"\u001b[0m\u001b[0;34m,\u001b[0m\u001b[0;34m\u001b[0m\u001b[0;34m\u001b[0m\u001b[0m\n",
            "\u001b[0;32m/usr/local/lib/python3.9/dist-packages/sklearn/base.py\u001b[0m in \u001b[0;36m_validate_data\u001b[0;34m(self, X, y, reset, validate_separately, **check_params)\u001b[0m\n\u001b[1;32m    527\u001b[0m             \u001b[0mvalidated\u001b[0m\u001b[0;34m.\u001b[0m\u001b[0;34m\u001b[0m\u001b[0;34m\u001b[0m\u001b[0m\n\u001b[1;32m    528\u001b[0m         \"\"\"\n\u001b[0;32m--> 529\u001b[0;31m         \u001b[0mself\u001b[0m\u001b[0;34m.\u001b[0m\u001b[0m_check_feature_names\u001b[0m\u001b[0;34m(\u001b[0m\u001b[0mX\u001b[0m\u001b[0;34m,\u001b[0m \u001b[0mreset\u001b[0m\u001b[0;34m=\u001b[0m\u001b[0mreset\u001b[0m\u001b[0;34m)\u001b[0m\u001b[0;34m\u001b[0m\u001b[0;34m\u001b[0m\u001b[0m\n\u001b[0m\u001b[1;32m    530\u001b[0m \u001b[0;34m\u001b[0m\u001b[0m\n\u001b[1;32m    531\u001b[0m         \u001b[0;32mif\u001b[0m \u001b[0my\u001b[0m \u001b[0;32mis\u001b[0m \u001b[0;32mNone\u001b[0m \u001b[0;32mand\u001b[0m \u001b[0mself\u001b[0m\u001b[0;34m.\u001b[0m\u001b[0m_get_tags\u001b[0m\u001b[0;34m(\u001b[0m\u001b[0;34m)\u001b[0m\u001b[0;34m[\u001b[0m\u001b[0;34m\"requires_y\"\u001b[0m\u001b[0;34m]\u001b[0m\u001b[0;34m:\u001b[0m\u001b[0;34m\u001b[0m\u001b[0;34m\u001b[0m\u001b[0m\n",
            "\u001b[0;32m/usr/local/lib/python3.9/dist-packages/sklearn/base.py\u001b[0m in \u001b[0;36m_check_feature_names\u001b[0;34m(self, X, reset)\u001b[0m\n\u001b[1;32m    460\u001b[0m                 )\n\u001b[1;32m    461\u001b[0m \u001b[0;34m\u001b[0m\u001b[0m\n\u001b[0;32m--> 462\u001b[0;31m             \u001b[0;32mraise\u001b[0m \u001b[0mValueError\u001b[0m\u001b[0;34m(\u001b[0m\u001b[0mmessage\u001b[0m\u001b[0;34m)\u001b[0m\u001b[0;34m\u001b[0m\u001b[0;34m\u001b[0m\u001b[0m\n\u001b[0m\u001b[1;32m    463\u001b[0m \u001b[0;34m\u001b[0m\u001b[0m\n\u001b[1;32m    464\u001b[0m     def _validate_data(\n",
            "\u001b[0;31mValueError\u001b[0m: The feature names should match those that were passed during fit.\nFeature names unseen at fit time:\n- cluster\n"
          ]
        }
      ]
    },
    {
      "cell_type": "code",
      "source": [
        "df.append(sample0)"
      ],
      "metadata": {
        "id": "Mq7MN8C_K9Pm"
      },
      "execution_count": null,
      "outputs": []
    },
    {
      "cell_type": "code",
      "source": [
        "modelA=df[df['cluster'].values==0]\n",
        "modelB=df[df['cluster'].values==1]\n",
        "modelC=df[df['cluster'].values==2]"
      ],
      "metadata": {
        "id": "DFO3Mn70vtwp"
      },
      "execution_count": null,
      "outputs": []
    },
    {
      "cell_type": "code",
      "source": [
        "print(modelA)"
      ],
      "metadata": {
        "id": "794gECGav_c2"
      },
      "execution_count": null,
      "outputs": []
    },
    {
      "cell_type": "code",
      "source": [
        "print(modelB)"
      ],
      "metadata": {
        "id": "IhV69gt7wXHX"
      },
      "execution_count": null,
      "outputs": []
    },
    {
      "cell_type": "code",
      "source": [
        "print(modelC)"
      ],
      "metadata": {
        "id": "k6RpUIIJwXud"
      },
      "execution_count": null,
      "outputs": []
    },
    {
      "cell_type": "code",
      "source": [
        "df.head()"
      ],
      "metadata": {
        "id": "RfTAGRpCvnzh"
      },
      "execution_count": null,
      "outputs": []
    },
    {
      "cell_type": "markdown",
      "source": [
        "## Testing stationarity"
      ],
      "metadata": {
        "id": "Y6_dldR_66cH"
      }
    },
    {
      "cell_type": "code",
      "source": [
        "def adjust_stationarity(dataset_trans):\n",
        "  diff_trans_shift=dataset_trans-dataset_trans.shift(1)\n",
        "  diff_trans_shift.dropna(inplace=True)\n",
        "  return diff_trans_shift"
      ],
      "metadata": {
        "id": "JaK6cZR_Fk-O"
      },
      "execution_count": null,
      "outputs": []
    },
    {
      "cell_type": "code",
      "source": [
        "#check for stationarity\n",
        "\n",
        "from statsmodels.tsa.stattools import adfuller\n",
        "def test_stationarity(dataset,window=12):\n",
        "  # print(dataset)\n",
        "  #rolling stat test\n",
        "  moving_avg=dataset.rolling(window=window).mean()\n",
        "  moving_std=dataset.rolling(window=window).std()\n",
        "\n",
        "  moving_avg.dropna(inplace=True)\n",
        "  moving_std.dropna(inplace=True)\n",
        "  plt.clf()\n",
        "  plt.plot(dataset,color='black',label=\"Original value\")\n",
        "  plt.plot(moving_avg,color='red',label=\"Moving average\")\n",
        "  plt.plot(moving_std,color='blue',label=\"Moving std\")\n",
        "  plt.legend()\n",
        "  \n",
        "\n",
        "  #adfc test\n",
        "  adfctest=adfuller(dataset,autolag='AIC')\n",
        "  adfcoutput=pd.Series(adfctest[0:4],index=['Test Statistic','p-value','#lags used','No.of observation used'])\n",
        "  for key,value in adfctest[4].items():\n",
        "    adfcoutput['Critical Value (%s)' %key]=value\n",
        "  \n",
        "\n",
        "  print(adfcoutput)\n",
        "\n",
        "  if adfcoutput[1]<=0.05:\n",
        "    print(\"Strong evidence against null hypothesis, reject null hypo\")\n",
        "    return adfctest[2]\n",
        "  else:\n",
        "    print(\"Weak evidence against null hypothesis, accept null hypo\")\n",
        "    return 0\n",
        "      \n",
        "#test stat must be greater than the critical values to accept null hypothesis\n",
        "#null hypo: dataset is not stationary"
      ],
      "metadata": {
        "id": "DErrx9P97Hgn"
      },
      "execution_count": null,
      "outputs": []
    },
    {
      "cell_type": "markdown",
      "source": [
        "# Model Training"
      ],
      "metadata": {
        "id": "WCLhQ3HwKt_9"
      }
    },
    {
      "cell_type": "markdown",
      "source": [
        "## ARIMA"
      ],
      "metadata": {
        "id": "Vqe0X_rTLJeE"
      }
    },
    {
      "cell_type": "code",
      "source": [
        "dataset_stand1"
      ],
      "metadata": {
        "id": "zwmUEdT6pBB9"
      },
      "execution_count": null,
      "outputs": []
    },
    {
      "cell_type": "code",
      "source": [
        "dataset_stand1.tail(5)"
      ],
      "metadata": {
        "id": "XMRccjMtpWNM"
      },
      "execution_count": null,
      "outputs": []
    },
    {
      "cell_type": "code",
      "source": [
        "new_data=pd.DataFrame([['2022-10-13',513.48067],['2022-10-14',444.48897],['2022-10-15',384.7167]],columns=['point_timestamp','point_value'])\n",
        "new_data.set_index('point_timestamp')\n",
        "data_stand=preprocessing(new_data)"
      ],
      "metadata": {
        "id": "Cp5jfPwypeRo"
      },
      "execution_count": null,
      "outputs": []
    },
    {
      "cell_type": "code",
      "source": [
        "data_stand.head()"
      ],
      "metadata": {
        "id": "E9msymqZqdou"
      },
      "execution_count": null,
      "outputs": []
    },
    {
      "cell_type": "code",
      "source": [
        "!pip install pmdarima"
      ],
      "metadata": {
        "id": "fC07RXFQE8fg"
      },
      "execution_count": null,
      "outputs": []
    },
    {
      "cell_type": "code",
      "source": [
        "from statsmodels.tsa.stattools import acf, pacf\n",
        "from statsmodels.tsa.arima.model import ARIMA\n",
        "from sklearn.metrics import mean_absolute_percentage_error\n",
        "from pmdarima.arima import auto_arima\n",
        "\n",
        "def arima_model(train_data, test_data,period):\n",
        "    diff_data = train_data.diff().dropna()\n",
        "    arima_model = auto_arima(diff_data, start_p=0, start_q=0, max_p=5, max_q=5,seasonal=False, trace=False, error_action='ignore', suppress_warnings=True)\n",
        "    p, d, q = arima_model.order\n",
        "\n",
        "    model = ARIMA(diff_data, order=(p,d,q))\n",
        "    results = model.fit()\n",
        "\n",
        "    periods = len(test_data)+period\n",
        "    forecast = results.forecast(steps=periods)\n",
        "\n",
        "    if period > 1:\n",
        "        pred = forecast[-period:]\n",
        "    else:\n",
        "        pred = [forecast[0]]\n",
        "\n",
        "    y_pred = pred[-len(test_data):]\n",
        "    y_true = test_data.values[-len(y_pred):]\n",
        "\n",
        "    mape = mean_absolute_percentage_error(y_true, y_pred)\n",
        "\n",
        "    # Generate dates for the forecast period\n",
        "    last_date = test_data.index[-1]\n",
        "    forecast_dates = pd.date_range(start=last_date + pd.Timedelta(days=1), periods=period, freq='D')\n",
        "\n",
        "    return {'name':'ARIMA', 'mape':mape, 'pred':pred, 'forecast_dates':forecast_dates}\n"
      ],
      "metadata": {
        "id": "QzNgbPe-ozDr"
      },
      "execution_count": null,
      "outputs": []
    },
    {
      "cell_type": "code",
      "source": [
        "print(arima_model(dataset_stand1,data_stand,5))"
      ],
      "metadata": {
        "id": "E2OWaztxo2OO"
      },
      "execution_count": null,
      "outputs": []
    },
    {
      "cell_type": "markdown",
      "source": [
        "## Prophet Model"
      ],
      "metadata": {
        "id": "ufTcpnaSZ40V"
      }
    },
    {
      "cell_type": "code",
      "source": [
        "from prophet import Prophet\n",
        "import pandas as pd\n",
        "from sklearn.metrics import mean_absolute_percentage_error\n",
        "\n",
        "def prophet_model(train_data, test_data, period):\n",
        "    train_data = train_data.reset_index()\n",
        "    train_data.columns = ['ds', 'y']\n",
        "    m = Prophet(interval_width=0.95, daily_seasonality=True)\n",
        "    model = m.fit(train_data)\n",
        "\n",
        "    future = m.make_future_dataframe(periods=len(test_data)+period, freq='D', include_history=False)\n",
        "    forecast = m.predict(future)\n",
        "\n",
        "    y_pred = forecast[-len(test_data):]['yhat'].values\n",
        "    y_true = test_data.values[-len(test_data):]\n",
        "    \n",
        "    # y_pred=scalar.inverse_transform(y_pred)\n",
        "    # y_true=scalar.inverse_transform(y_true)\n",
        "\n",
        "    mape = mean_absolute_percentage_error(y_true, y_pred)\n",
        "\n",
        "    return {'name': 'PROPHET', 'mape': mape, 'pred': forecast['yhat'].values}\n"
      ],
      "metadata": {
        "id": "tGqPg0-5vHJ_"
      },
      "execution_count": null,
      "outputs": []
    },
    {
      "cell_type": "code",
      "source": [
        "print(std_scaler.inverse_transform(prophet_model(dataset_stand1,data_stand, 10)['pred'].reshape(-1,1)))"
      ],
      "metadata": {
        "id": "xILS3n2xFZiN"
      },
      "execution_count": null,
      "outputs": []
    },
    {
      "cell_type": "markdown",
      "source": [],
      "metadata": {
        "id": "XXb6nUqePCmJ"
      }
    },
    {
      "cell_type": "code",
      "source": [
        "from statsmodels.tsa.api import ExponentialSmoothing, SimpleExpSmoothing, Holt\n"
      ],
      "metadata": {
        "id": "VOgRCc9mdEHX"
      },
      "execution_count": null,
      "outputs": []
    },
    {
      "cell_type": "code",
      "source": [
        "def holt_linear_trend_forecast(train_data, test_data, forecast_period):\n",
        "    # Fit the model\n",
        "    model = Holt(train_data).fit()\n",
        "    \n",
        "    # Make the forecast\n",
        "    y_pred = model.forecast(len(test_data)+forecast_period)\n",
        "    \n",
        "    # Calculate MAPE\n",
        "    mape = mean_absolute_percentage_error(test_data, y_pred[:len(test_data)])\n",
        "    \n",
        "    return {'name':\"Holt's Linear Trend Method\",'mape': mape,'pred': y_pred}"
      ],
      "metadata": {
        "id": "6FKXNE0QwgBV"
      },
      "execution_count": null,
      "outputs": []
    },
    {
      "cell_type": "code",
      "source": [
        "holt_linear_trend_forecast(dataset_stand1,data_stand, 10)"
      ],
      "metadata": {
        "id": "7o9vLuyaS2kz"
      },
      "execution_count": null,
      "outputs": []
    },
    {
      "cell_type": "code",
      "source": [
        "\n",
        "def inverse_transform(data):\n",
        "  destandardized_value = scalar.inverse_transform(data)\n",
        "  return destandardized_value\n"
      ],
      "metadata": {
        "id": "g7xz_FkDxWx7"
      },
      "execution_count": null,
      "outputs": []
    },
    {
      "cell_type": "code",
      "source": [
        "data_stand.mean()"
      ],
      "metadata": {
        "id": "MyS7B1T5yIp8"
      },
      "execution_count": null,
      "outputs": []
    },
    {
      "cell_type": "code",
      "source": [
        "modelA"
      ],
      "metadata": {
        "id": "p5mmIm0W2klG"
      },
      "execution_count": null,
      "outputs": []
    },
    {
      "cell_type": "code",
      "source": [
        "modelB"
      ],
      "metadata": {
        "id": "CJ-hq_tB6nv2"
      },
      "execution_count": null,
      "outputs": []
    },
    {
      "cell_type": "code",
      "source": [
        "modelC"
      ],
      "metadata": {
        "id": "qTelkEGx7UZV"
      },
      "execution_count": null,
      "outputs": []
    },
    {
      "cell_type": "code",
      "source": [
        "modelBds=dataset_stand1"
      ],
      "metadata": {
        "id": "Cr3ECfJk6r11"
      },
      "execution_count": null,
      "outputs": []
    },
    {
      "cell_type": "code",
      "source": [
        "modelAds=dataset_stand9"
      ],
      "metadata": {
        "id": "wuI2oQ8D14QF"
      },
      "execution_count": null,
      "outputs": []
    },
    {
      "cell_type": "code",
      "source": [
        "dataset_stand9"
      ],
      "metadata": {
        "id": "Yog6CtyS3svT"
      },
      "execution_count": null,
      "outputs": []
    },
    {
      "cell_type": "code",
      "source": [
        "def model_select(train,test,period):\n",
        "  mape_arima=arima_model(train,test,0)['mape']\n",
        "  mape_prophet=prophet_model(train,test,0)['mape']\n",
        "  mape_holt=holt_linear_trend_forecast(train,test,0)['mape']\n",
        "  min_mape = min(mape_arima, mape_prophet, mape_holt)\n",
        "\n",
        "  if min_mape == mape_arima:\n",
        "      return 0\n",
        "  elif min_mape == mape_prophet:\n",
        "      return 1\n",
        "  else:\n",
        "      return 2\n"
      ],
      "metadata": {
        "id": "U2ogWyWa5KKc"
      },
      "execution_count": null,
      "outputs": []
    },
    {
      "cell_type": "code",
      "source": [
        "dataset_stand2.tail()"
      ],
      "metadata": {
        "id": "PC7r6DzXC7E7"
      },
      "execution_count": null,
      "outputs": []
    },
    {
      "cell_type": "code",
      "source": [
        "arima=[]\n",
        "prophet=[]\n",
        "holt=[]\n",
        "for i,d in enumerate(datasets,1):\n",
        "  m=model_select(d,data_stand,0)\n",
        "  if m==0:\n",
        "    arima.append(i)\n",
        "  elif m==1:\n",
        "    prophet.append(i)\n",
        "  else:\n",
        "    holt.append(i)\n",
        "# print(model)"
      ],
      "metadata": {
        "id": "Y-9W5Pmn8qAA"
      },
      "execution_count": null,
      "outputs": []
    },
    {
      "cell_type": "code",
      "source": [
        "print(arima)"
      ],
      "metadata": {
        "id": "XZugg134FMpJ"
      },
      "execution_count": null,
      "outputs": []
    },
    {
      "cell_type": "code",
      "source": [
        "df['cluster']['s2']"
      ],
      "metadata": {
        "id": "r5ovkHLCHqJ7"
      },
      "execution_count": null,
      "outputs": []
    },
    {
      "cell_type": "code",
      "source": [
        "for i,d in enumerate(datasets):\n",
        "  if i in arima:\n",
        "    df['cluster']['s'+str(i+1)]=0\n",
        "  elif i in prophet:\n",
        "    df['cluster']['s'+str(i+1)]=1\n",
        "  else:\n",
        "    df['cluster']['s'+str(i+1)]=2\n",
        "df.head(7)"
      ],
      "metadata": {
        "id": "f0XxeuQ3HTWU"
      },
      "execution_count": null,
      "outputs": []
    },
    {
      "cell_type": "code",
      "source": [
        "print(model_select(dataset_stand9,data_stand,0))"
      ],
      "metadata": {
        "id": "VqqJpR5P6B00"
      },
      "execution_count": null,
      "outputs": []
    },
    {
      "cell_type": "code",
      "source": [
        "print(model_select(dataset_stand7,data_stand,0))"
      ],
      "metadata": {
        "id": "t1FvvIf666HN"
      },
      "execution_count": null,
      "outputs": []
    },
    {
      "cell_type": "code",
      "source": [
        "print(model_select(dataset_stand4,data_stand,0))"
      ],
      "metadata": {
        "id": "WbJDzqTI6lBp"
      },
      "execution_count": null,
      "outputs": []
    },
    {
      "cell_type": "markdown",
      "source": [
        "modelA - ARIMA <br>\n",
        "modelB -   <br>\n",
        "modelC -"
      ],
      "metadata": {
        "id": "_HODo3qj6c-y"
      }
    }
  ]
}